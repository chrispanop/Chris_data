{
  "cells": [
    {
      "cell_type": "markdown",
      "metadata": {
        "id": "view-in-github",
        "colab_type": "text"
      },
      "source": [
        "<a href=\"https://colab.research.google.com/github/chrispanop/Chris_data/blob/main/Malicious_Detection_Colab.ipynb\" target=\"_parent\"><img src=\"https://colab.research.google.com/assets/colab-badge.svg\" alt=\"Open In Colab\"/></a>"
      ]
    },
    {
      "cell_type": "markdown",
      "id": "d827e6c7",
      "metadata": {
        "id": "d827e6c7"
      },
      "source": [
        "# Malicious Detection\n",
        "Σε αυτό το notebook θα εξετάσουμε δεδομένα δικτύου από το αρχείο `DarkNet.csv` και θα δημιουργήσουμε ένα μοντέλο μηχανικής μάθησης για την ανίχνευση κακόβουλων ροών."
      ]
    },
    {
      "cell_type": "markdown",
      "source": [],
      "metadata": {
        "id": "y0NxvIR_Heo3"
      },
      "id": "y0NxvIR_Heo3"
    },
    {
      "cell_type": "markdown",
      "source": [],
      "metadata": {
        "id": "jugOXS1EHe8b"
      },
      "id": "jugOXS1EHe8b"
    },
    {
      "cell_type": "code",
      "source": [],
      "metadata": {
        "id": "32tRFGVRHfjM"
      },
      "id": "32tRFGVRHfjM",
      "execution_count": null,
      "outputs": []
    },
    {
      "cell_type": "code",
      "source": [],
      "metadata": {
        "id": "ocSl9G1rHfy9"
      },
      "id": "ocSl9G1rHfy9",
      "execution_count": null,
      "outputs": []
    },
    {
      "cell_type": "markdown",
      "source": [],
      "metadata": {
        "id": "bFlocbBbFfyS"
      },
      "id": "bFlocbBbFfyS"
    },
    {
      "cell_type": "code",
      "execution_count": null,
      "id": "7359ba3e",
      "metadata": {
        "id": "7359ba3e",
        "outputId": "b02e4109-fc71-4331-9544-1cd065f6deeb",
        "colab": {
          "base_uri": "https://localhost:8080/"
        }
      },
      "outputs": [
        {
          "output_type": "stream",
          "name": "stdout",
          "text": [
            "<class 'pandas.core.frame.DataFrame'>\n",
            "RangeIndex: 68580 entries, 0 to 68579\n",
            "Data columns (total 83 columns):\n",
            " #   Column                      Non-Null Count  Dtype  \n",
            "---  ------                      --------------  -----  \n",
            " 0   Src_IP                      68580 non-null  object \n",
            " 1   Src_Port                    68580 non-null  int64  \n",
            " 2   Dst_IP                      68580 non-null  object \n",
            " 3   Dst_Port                    68580 non-null  int64  \n",
            " 4   Protocol                    68580 non-null  int64  \n",
            " 5   Flow_Duration               68580 non-null  int64  \n",
            " 6   Total_Fwd_Packet            68580 non-null  int64  \n",
            " 7   Total_Bwd_packets           68580 non-null  int64  \n",
            " 8   Total_Length_of_Fwd_Packet  68580 non-null  int64  \n",
            " 9   Total_Length_of_Bwd_Packet  68580 non-null  int64  \n",
            " 10  Fwd_Packet_Length_Max       68580 non-null  int64  \n",
            " 11  Fwd_Packet_Length_Min       68580 non-null  int64  \n",
            " 12  Fwd_Packet_Length_Mean      68580 non-null  float64\n",
            " 13  Fwd_Packet_Length_Std       68580 non-null  float64\n",
            " 14  Bwd_Packet_Length_Max       68580 non-null  int64  \n",
            " 15  Bwd_Packet_Length_Min       68580 non-null  int64  \n",
            " 16  Bwd_Packet_Length_Mean      68580 non-null  float64\n",
            " 17  Bwd_Packet_Length_Std       68580 non-null  float64\n",
            " 18  Flow_Bytes/s                68580 non-null  object \n",
            " 19  Flow_Packets/s              68580 non-null  float64\n",
            " 20  Flow_IAT_Mean               68580 non-null  float64\n",
            " 21  Flow_IAT_Std                68580 non-null  float64\n",
            " 22  Flow_IAT_Max                68580 non-null  int64  \n",
            " 23  Flow_IAT_Min                68580 non-null  int64  \n",
            " 24  Fwd_IAT_Total               68580 non-null  int64  \n",
            " 25  Fwd_IAT_Mean                68580 non-null  float64\n",
            " 26  Fwd_IAT_Std                 68580 non-null  float64\n",
            " 27  Fwd_IAT_Max                 68580 non-null  int64  \n",
            " 28  Fwd_IAT_Min                 68580 non-null  int64  \n",
            " 29  Bwd_IAT_Total               68580 non-null  int64  \n",
            " 30  Bwd_IAT_Mean                68580 non-null  float64\n",
            " 31  Bwd_IAT_Std                 68580 non-null  float64\n",
            " 32  Bwd_IAT_Max                 68580 non-null  int64  \n",
            " 33  Bwd_IAT_Min                 68580 non-null  int64  \n",
            " 34  Fwd_PSH_Flags               68580 non-null  int64  \n",
            " 35  Bwd_PSH_Flags               68580 non-null  int64  \n",
            " 36  Fwd_URG_Flags               68580 non-null  int64  \n",
            " 37  Bwd_URG_Flags               68580 non-null  int64  \n",
            " 38  Fwd_Header_Length           68580 non-null  int64  \n",
            " 39  Bwd_Header_Length           68580 non-null  int64  \n",
            " 40  Fwd_Packets/s               68580 non-null  float64\n",
            " 41  Bwd_Packets/s               68580 non-null  float64\n",
            " 42  Packet_Length_Min           68580 non-null  int64  \n",
            " 43  Packet_Length_Max           68580 non-null  int64  \n",
            " 44  Packet_Length_Mean          68580 non-null  float64\n",
            " 45  Packet_Length_Std           68580 non-null  float64\n",
            " 46  Packet_Length_Variance      68580 non-null  float64\n",
            " 47  FIN_Flag_Count              68580 non-null  int64  \n",
            " 48  SYN_Flag_Count              68580 non-null  int64  \n",
            " 49  RST_Flag_Count              68580 non-null  int64  \n",
            " 50  PSH_Flag_Count              68580 non-null  int64  \n",
            " 51  ACK_Flag_Count              68580 non-null  int64  \n",
            " 52  URG_Flag_Count              68580 non-null  int64  \n",
            " 53  CWE_Flag_Count              68580 non-null  int64  \n",
            " 54  ECE_Flag_Count              68580 non-null  int64  \n",
            " 55  Down/Up_Ratio               68580 non-null  int64  \n",
            " 56  Average_Packet_Size         68580 non-null  float64\n",
            " 57  Fwd_Segment_Size_Avg        68580 non-null  float64\n",
            " 58  Bwd_Segment_Size_Avg        68580 non-null  float64\n",
            " 59  Fwd_Bytes/Bulk_Avg          68580 non-null  int64  \n",
            " 60  Fwd_Packet/Bulk_Avg         68580 non-null  int64  \n",
            " 61  Fwd_Bulk_Rate_Avg           68580 non-null  int64  \n",
            " 62  Bwd_Bytes/Bulk_Avg          68580 non-null  int64  \n",
            " 63  Bwd_Packet/Bulk_Avg         68580 non-null  int64  \n",
            " 64  Bwd_Bulk_Rate_Avg           68580 non-null  int64  \n",
            " 65  Subflow_Fwd_Packets         68580 non-null  int64  \n",
            " 66  Subflow_Fwd_Bytes           68580 non-null  int64  \n",
            " 67  Subflow_Bwd_Packets         68580 non-null  int64  \n",
            " 68  Subflow_Bwd_Bytes           68580 non-null  int64  \n",
            " 69  FWD_Init_Win_Bytes          68580 non-null  int64  \n",
            " 70  Bwd_Init_Win_Bytes          68580 non-null  int64  \n",
            " 71  Fwd_Act_Data_Pkts           68580 non-null  int64  \n",
            " 72  Fwd_Seg_Size_Min            68580 non-null  int64  \n",
            " 73  Active_Mean                 68580 non-null  int64  \n",
            " 74  Active_Std                  68580 non-null  int64  \n",
            " 75  Active_Max                  68580 non-null  int64  \n",
            " 76  Active_Min                  68580 non-null  int64  \n",
            " 77  Idle_Mean                   68580 non-null  int64  \n",
            " 78  Idle_Std                    68580 non-null  float64\n",
            " 79  Idle_Max                    68580 non-null  int64  \n",
            " 80  Idle_Min                    68580 non-null  int64  \n",
            " 81  Label-1                     68580 non-null  object \n",
            " 82  Label-2                     68580 non-null  object \n",
            "dtypes: float64(20), int64(58), object(5)\n",
            "memory usage: 43.4+ MB\n",
            "None\n",
            "Src_IP      0\n",
            "Src_Port    0\n",
            "Dst_IP      0\n",
            "Dst_Port    0\n",
            "Protocol    0\n",
            "           ..\n",
            "Idle_Std    0\n",
            "Idle_Max    0\n",
            "Idle_Min    0\n",
            "Label-1     0\n",
            "Label-2     0\n",
            "Length: 83, dtype: int64\n"
          ]
        },
        {
          "output_type": "stream",
          "name": "stderr",
          "text": [
            "<ipython-input-16-1ac4e7c9abdb>:13: DtypeWarning: Columns (18) have mixed types. Specify dtype option on import or set low_memory=False.\n",
            "  data = pd.read_csv(url)\n"
          ]
        }
      ],
      "source": [
        "# Import necessary libraries\n",
        "import pandas as pd\n",
        "import numpy as np\n",
        "import matplotlib.pyplot as plt\n",
        "import seaborn as sns\n",
        "from sklearn.model_selection import train_test_split\n",
        "from sklearn.ensemble import RandomForestClassifier\n",
        "from sklearn.metrics import classification_report, confusion_matrix\n",
        "from sklearn.preprocessing import StandardScaler\n",
        "\n",
        "# Load dataset\n",
        "url = 'https://raw.githubusercontent.com/kdemertzis/EKPA/refs/heads/main/Data/DarkNet.csv'\n",
        "data = pd.read_csv(url)\n",
        "\n",
        "# Display basic information about the dataset\n",
        "print(data.info())\n",
        "print(data.isnull().sum())"
      ]
    },
    {
      "cell_type": "code",
      "execution_count": null,
      "id": "5d12462a",
      "metadata": {
        "id": "5d12462a",
        "colab": {
          "base_uri": "https://localhost:8080/",
          "height": 529
        },
        "outputId": "1d4cafda-1c57-40b8-8f27-3ab7a441454c"
      },
      "outputs": [
        {
          "output_type": "display_data",
          "data": {
            "text/plain": [
              "<Figure size 800x500 with 1 Axes>"
            ],
            "image/png": "[encoded data removed]"
          },
          "metadata": {}
        }
      ],
      "source": [
        "# Analyze the target column 'Label'\n",
        "label_distribution = data['Label-1'].value_counts()\n",
        "plt.figure(figsize=(8, 5))\n",
        "label_distribution.plot(kind='bar', title='Distribution of Malicious vs Benign Flows')\n",
        "plt.xlabel('Label-1')\n",
        "plt.ylabel('Count')\n",
        "plt.show()"
      ]
    },
    {
      "cell_type": "code",
      "execution_count": null,
      "id": "0ede1c61",
      "metadata": {
        "id": "0ede1c61"
      },
      "outputs": [],
      "source": [
        "# Select numerical features\n",
        "numerical_features = data.select_dtypes(include=['float64', 'int64']).columns.tolist()\n",
        "#numerical_features.remove('Label-1')  # Remove the target column\n",
        "\n",
        "# Prepare data for training\n",
        "target = data['Label-1']\n",
        "X = data[numerical_features]\n",
        "y = target\n",
        "\n",
        "# Split data into training and testing sets\n",
        "X_train, X_test, y_train, y_test = train_test_split(X, y, test_size=0.3, random_state=42)"
      ]
    },
    {
      "cell_type": "code",
      "execution_count": null,
      "id": "95f543c4",
      "metadata": {
        "id": "95f543c4",
        "colab": {
          "base_uri": "https://localhost:8080/"
        },
        "collapsed": true,
        "outputId": "5747afc8-d690-42e7-f675-3f4aacb438f8"
      },
      "outputs": [
        {
          "output_type": "stream",
          "name": "stderr",
          "text": [
            "<ipython-input-19-f09ae897c7fc>:3: SettingWithCopyWarning: \n",
            "A value is trying to be set on a copy of a slice from a DataFrame\n",
            "\n",
            "See the caveats in the documentation: https://pandas.pydata.org/pandas-docs/stable/user_guide/indexing.html#returning-a-view-versus-a-copy\n",
            "  X.replace([np.inf, -np.inf], np.nan, inplace=True)\n",
            "<ipython-input-19-f09ae897c7fc>:8: FutureWarning: A value is trying to be set on a copy of a DataFrame or Series through chained assignment using an inplace method.\n",
            "The behavior will change in pandas 3.0. This inplace method will never work because the intermediate object on which we are setting values always behaves as a copy.\n",
            "\n",
            "For example, when doing 'df[col].method(value, inplace=True)', try using 'df.method({col: value}, inplace=True)' or df[col] = df[col].method(value) instead, to perform the operation inplace on the original object.\n",
            "\n",
            "\n",
            "  X[col].fillna(X[col].mean(), inplace=True)\n",
            "<ipython-input-19-f09ae897c7fc>:8: SettingWithCopyWarning: \n",
            "A value is trying to be set on a copy of a slice from a DataFrame\n",
            "\n",
            "See the caveats in the documentation: https://pandas.pydata.org/pandas-docs/stable/user_guide/indexing.html#returning-a-view-versus-a-copy\n",
            "  X[col].fillna(X[col].mean(), inplace=True)\n"
          ]
        }
      ],
      "source": [
        "# Train Random Forest Classifier\n",
        "# Replace infinite values with NaN\n",
        "X.replace([np.inf, -np.inf], np.nan, inplace=True)\n",
        "\n",
        "# Impute NaN values (if any) with the mean of the column\n",
        "# You can explore other imputation techniques as well\n",
        "for col in X.columns:\n",
        "    X[col].fillna(X[col].mean(), inplace=True)\n",
        "\n",
        "# Scale numerical features using StandardScaler\n",
        "scaler = StandardScaler()\n",
        "X = scaler.fit_transform(X) # Fit and transform on the entire dataset\n",
        "\n",
        "# Split data into training and testing sets\n",
        "X_train, X_test, y_train, y_test = train_test_split(X, y, test_size=0.3, random_state=42)\n",
        "\n",
        "clf = RandomForestClassifier(n_estimators=100, random_state=42)\n",
        "clf.fit(X_train, y_train)\n",
        "\n",
        "# Predict on test set\n",
        "y_pred = clf.predict(X_test)"
      ]
    },
    {
      "cell_type": "code",
      "execution_count": null,
      "id": "aa559b36",
      "metadata": {
        "id": "aa559b36",
        "colab": {
          "base_uri": "https://localhost:8080/"
        },
        "outputId": "ad91495b-dc3b-46b0-fe24-815e85087ca9"
      },
      "outputs": [
        {
          "output_type": "stream",
          "name": "stdout",
          "text": [
            "Classification Report:\n",
            "               precision    recall  f1-score   support\n",
            "\n",
            "     Non-Tor       1.00      1.00      1.00      9266\n",
            "      NonVPN       0.95      0.96      0.96      6806\n",
            "         Tor       0.96      0.89      0.92       425\n",
            "         VPN       0.94      0.93      0.93      4077\n",
            "\n",
            "    accuracy                           0.97     20574\n",
            "   macro avg       0.96      0.94      0.95     20574\n",
            "weighted avg       0.97      0.97      0.97     20574\n",
            "\n",
            "Confusion Matrix:\n",
            " [[9253    4    0    9]\n",
            " [  11 6535   13  247]\n",
            " [   1   44  380    0]\n",
            " [  12  283    4 3778]]\n"
          ]
        }
      ],
      "source": [
        "# Evaluate the model\n",
        "print(\"Classification Report:\\n\", classification_report(y_test, y_pred))\n",
        "print(\"Confusion Matrix:\\n\", confusion_matrix(y_test, y_pred))"
      ]
    },
    {
      "cell_type": "code",
      "execution_count": null,
      "id": "e8fcfb38",
      "metadata": {
        "id": "e8fcfb38",
        "colab": {
          "base_uri": "https://localhost:8080/",
          "height": 452
        },
        "outputId": "f0c72e72-c0fb-4bc2-f312-df31c80f57aa"
      },
      "outputs": [
        {
          "output_type": "display_data",
          "data": {
            "text/plain": [
              "<Figure size 640x480 with 1 Axes>"
            ],
            "image/png": "[encoded data removed]"
          },
          "metadata": {}
        }
      ],
      "source": [
        "# Visualize feature importance\n",
        "feature_importances = pd.Series(clf.feature_importances_, index=numerical_features)\n",
        "feature_importances.nlargest(10).plot(kind='barh', title='Top 10 Important Features')\n",
        "plt.show()"
      ]
    }
  ],
  "metadata": {
    "colab": {
      "provenance": [],
      "include_colab_link": true
    },
    "language_info": {
      "name": "python"
    },
    "kernelspec": {
      "name": "python3",
      "display_name": "Python 3"
    }
  },
  "nbformat": 4,
  "nbformat_minor": 5
}