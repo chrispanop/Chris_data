{
 "cells": [
  {
   "cell_type": "markdown",
   "id": "d827e6c7",
   "metadata": {},
   "source": [
    "# Ανίχνευση Κακόβουλης Δραστηριότητας\n",
    "Σε αυτό το notebook θα εξετάσουμε δεδομένα δικτύου από το αρχείο `DarkNet.csv` και θα δημιουργήσουμε ένα μοντέλο μηχανικής μάθησης για την ανίχνευση κακόβουλων ροών."
   ]
  },
  {
   "cell_type": "code",
   "execution_count": null,
   "id": "7359ba3e",
   "metadata": {},
   "outputs": [],
   "source": [
    "# Import necessary libraries\n",
    "import pandas as pd\n",
    "import matplotlib.pyplot as plt\n",
    "import seaborn as sns\n",
    "from sklearn.model_selection import train_test_split\n",
    "from sklearn.ensemble import RandomForestClassifier\n",
    "from sklearn.metrics import classification_report, confusion_matrix\n",
    "\n",
    "# Load dataset\n",
    "data_path = '/content/DarkNet.csv'\n",
    "data = pd.read_csv(data_path)\n",
    "\n",
    "# Display basic information about the dataset\n",
    "print(data.info())\n",
    "print(data.isnull().sum())"
   ]
  },
  {
   "cell_type": "code",
   "execution_count": null,
   "id": "5d12462a",
   "metadata": {},
   "outputs": [],
   "source": [
    "# Analyze the target column 'Label'\n",
    "label_distribution = data['Label'].value_counts()\n",
    "plt.figure(figsize=(8, 5))\n",
    "label_distribution.plot(kind='bar', title='Distribution of Malicious vs Benign Flows')\n",
    "plt.xlabel('Label')\n",
    "plt.ylabel('Count')\n",
    "plt.show()"
   ]
  },
  {
   "cell_type": "code",
   "execution_count": null,
   "id": "0ede1c61",
   "metadata": {},
   "outputs": [],
   "source": [
    "# Select numerical features\n",
    "numerical_features = data.select_dtypes(include=['float64', 'int64']).columns.tolist()\n",
    "numerical_features.remove('Label')  # Remove the target column\n",
    "\n",
    "# Prepare data for training\n",
    "target = data['Label']\n",
    "X = data[numerical_features]\n",
    "y = target\n",
    "\n",
    "# Split data into training and testing sets\n",
    "X_train, X_test, y_train, y_test = train_test_split(X, y, test_size=0.3, random_state=42)"
   ]
  },
  {
   "cell_type": "code",
   "execution_count": null,
   "id": "95f543c4",
   "metadata": {},
   "outputs": [],
   "source": [
    "# Train Random Forest Classifier\n",
    "clf = RandomForestClassifier(n_estimators=100, random_state=42)\n",
    "clf.fit(X_train, y_train)\n",
    "\n",
    "# Predict on test set\n",
    "y_pred = clf.predict(X_test)"
   ]
  },
  {
   "cell_type": "code",
   "execution_count": null,
   "id": "aa559b36",
   "metadata": {},
   "outputs": [],
   "source": [
    "# Evaluate the model\n",
    "print(\"Classification Report:\\n\", classification_report(y_test, y_pred))\n",
    "print(\"Confusion Matrix:\\n\", confusion_matrix(y_test, y_pred))"
   ]
  },
  {
   "cell_type": "code",
   "execution_count": null,
   "id": "e8fcfb38",
   "metadata": {},
   "outputs": [],
   "source": [
    "# Visualize feature importance\n",
    "feature_importances = pd.Series(clf.feature_importances_, index=numerical_features)\n",
    "feature_importances.nlargest(10).plot(kind='barh', title='Top 10 Important Features')\n",
    "plt.show()"
   ]
  }
 ],
 "metadata": {},
 "nbformat": 4,
 "nbformat_minor": 5
}
